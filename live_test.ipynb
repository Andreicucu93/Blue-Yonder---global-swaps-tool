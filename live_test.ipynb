{
 "cells": [
  {
   "cell_type": "code",
   "execution_count": 6,
   "id": "7a1ad3e8-4378-4306-b9fb-4c12345667af",
   "metadata": {},
   "outputs": [],
   "source": [
    "from PIL import Image, ImageTk, ImageOps\n",
    "import os, shutil"
   ]
  },
  {
   "cell_type": "code",
   "execution_count": null,
   "id": "579106a2-ff3a-4d78-878b-cfac8ff7c63d",
   "metadata": {},
   "outputs": [],
   "source": []
  },
  {
   "cell_type": "code",
   "execution_count": 14,
   "id": "5467b96b-1227-4f1c-85bd-dbaad56c9492",
   "metadata": {},
   "outputs": [
    {
     "data": {
      "image/png": "[encoded data removed]",
      "text/plain": [
       "<PIL.PngImagePlugin.PngImageFile image mode=RGBA size=112x43>"
      ]
     },
     "execution_count": 14,
     "metadata": {},
     "output_type": "execute_result"
    }
   ],
   "source": [
    "#Locating and storing original image\n",
    "clear_img = Image.open(os.path.normpath('clear.png'))\n",
    "clear_img"
   ]
  },
  {
   "cell_type": "code",
   "execution_count": 36,
   "id": "78fe6d2b-03ae-4632-9d35-6a4f8bfedb0a",
   "metadata": {},
   "outputs": [
    {
     "data": {
      "text/plain": [
       "(56, 21)"
      ]
     },
     "execution_count": 36,
     "metadata": {},
     "output_type": "execute_result"
    }
   ],
   "source": [
    "#Storing new image size in a tuple\n",
    "clear_img_new_size = (int(clear_img.size[0] / 2), int(clear_img.size[1] / 2))\n",
    "clear_img_new_size"
   ]
  },
  {
   "cell_type": "code",
   "execution_count": 37,
   "id": "8d939617-384c-4b80-a8dc-821a75791b63",
   "metadata": {},
   "outputs": [
    {
     "data": {
      "image/png": "[encoded data removed]",
      "text/plain": [
       "<PIL.Image.Image image mode=RGBA size=56x21>"
      ]
     },
     "execution_count": 37,
     "metadata": {},
     "output_type": "execute_result"
    }
   ],
   "source": [
    "clear_img_resized = clear_img.resize(clear_img_new_size)\n",
    "clear_img_resized"
   ]
  },
  {
   "cell_type": "code",
   "execution_count": null,
   "id": "6ad59f7c-5201-4e7f-993c-888fbb3f872d",
   "metadata": {},
   "outputs": [],
   "source": [
    "\n"
   ]
  },
  {
   "cell_type": "code",
   "execution_count": null,
   "id": "a13e7363-91a0-494d-8d07-91b8c9aaca93",
   "metadata": {},
   "outputs": [],
   "source": []
  },
  {
   "cell_type": "code",
   "execution_count": null,
   "id": "0304f6e6-8754-4cb9-ada6-c2f886bc75f5",
   "metadata": {},
   "outputs": [],
   "source": []
  }
 ],
 "metadata": {
  "kernelspec": {
   "display_name": "Python 3 (ipykernel)",
   "language": "python",
   "name": "python3"
  },
  "language_info": {
   "codemirror_mode": {
    "name": "ipython",
    "version": 3
   },
   "file_extension": ".py",
   "mimetype": "text/x-python",
   "name": "python",
   "nbconvert_exporter": "python",
   "pygments_lexer": "ipython3",
   "version": "3.12.3"
  }
 },
 "nbformat": 4,
 "nbformat_minor": 5
}
